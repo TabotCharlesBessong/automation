{
 "cells": [
  {
   "cell_type": "code",
   "execution_count": null,
   "id": "4b15fb61",
   "metadata": {},
   "outputs": [],
   "source": [
    "import numpy as np\n",
    "import matplotlib.pyplot as plt"
   ]
  },
  {
   "cell_type": "code",
   "execution_count": null,
   "id": "1a563570",
   "metadata": {},
   "outputs": [],
   "source": [
    "x = np.arange(5)\n",
    "y = np.arange(5)\n",
    "print(\"x\", x)\n",
    "print(\"y\", y)\n",
    "\n",
    "plt.plot(x, y)"
   ]
  },
  {
   "cell_type": "code",
   "execution_count": null,
   "id": "dec4b611",
   "metadata": {},
   "outputs": [],
   "source": [
    "plt.plot(x, y, \"xg\")"
   ]
  },
  {
   "cell_type": "code",
   "execution_count": null,
   "id": "e0dbe135",
   "metadata": {},
   "outputs": [],
   "source": [
    "\n",
    "data = np.array([1, 2, 1, 2, 5, 1 ,2])\n",
    "plt.title(\"My title\")\n",
    "plt.xlabel(\"x label\")\n",
    "plt.ylabel(\"y label\")\n",
    "plt.plot(data)"
   ]
  },
  {
   "cell_type": "code",
   "execution_count": null,
   "id": "74e36890",
   "metadata": {},
   "outputs": [],
   "source": [
    "\n",
    "plt.hist(data)"
   ]
  },
  {
   "cell_type": "code",
   "execution_count": null,
   "id": "c567fce2",
   "metadata": {},
   "outputs": [],
   "source": []
  }
 ],
 "metadata": {
  "kernelspec": {
   "display_name": "base",
   "language": "python",
   "name": "python3"
  },
  "language_info": {
   "codemirror_mode": {
    "name": "ipython",
    "version": 3
   },
   "file_extension": ".py",
   "mimetype": "text/x-python",
   "name": "python",
   "nbconvert_exporter": "python",
   "pygments_lexer": "ipython3",
   "version": "3.12.7"
  }
 },
 "nbformat": 4,
 "nbformat_minor": 5
}
