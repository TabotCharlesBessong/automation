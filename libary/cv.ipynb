{
 "cells": [
  {
   "cell_type": "code",
   "execution_count": null,
   "id": "0957326a",
   "metadata": {},
   "outputs": [],
   "source": [
    "import cv2\n",
    "\n",
    "image = cv2.imread(\"car.jpg\")\n",
    "print(\"Image type\", type(image))\n",
    "cv2.imshow(\"Image name\", image)\n",
    "cv2.waitKey(0)"
   ]
  },
  {
   "cell_type": "code",
   "execution_count": null,
   "id": "63a0e65d",
   "metadata": {},
   "outputs": [],
   "source": [
    "import matplotlib.pyplot as plt\n",
    "%matplotlib inline  \n",
    "\n",
    "plt.imshow(image)"
   ]
  },
  {
   "cell_type": "code",
   "execution_count": null,
   "id": "c975def6",
   "metadata": {},
   "outputs": [],
   "source": [
    "image_rgb = cv2.cvtColor(image, cv2.COLOR_BGR2RGB)\n",
    "plt.imshow(image_rgb)"
   ]
  },
  {
   "cell_type": "code",
   "execution_count": null,
   "id": "b6acf098",
   "metadata": {},
   "outputs": [],
   "source": [
    "image_gray = cv2.cvtColor(image, cv2.COLOR_BGR2GRAY)\n",
    "print(\"image shape\", image_gray.shape)\n",
    "plt.imshow(image_gray, cmap=\"gray\")"
   ]
  },
  {
   "cell_type": "code",
   "execution_count": null,
   "id": "aa4d2835",
   "metadata": {},
   "outputs": [],
   "source": [
    "small_image = cv2.resize(image_rgb, (100, 100))\n",
    "plt.imshow(small_image)"
   ]
  },
  {
   "cell_type": "code",
   "execution_count": null,
   "id": "2a09a134",
   "metadata": {},
   "outputs": [],
   "source": [
    "\n",
    "# ksize\n",
    "ksize = (15, 15)\n",
    "  \n",
    "# Using cv2.blur() method \n",
    "image_blured = cv2.blur(image_rgb, ksize) \n",
    "\n",
    "fig, (ax1, ax2) = plt.subplots(2, 1, figsize = (15, 10))\n",
    "ax1.imshow(image_rgb)\n",
    "  \n",
    "ax2.imshow(image_blured)"
   ]
  },
  {
   "cell_type": "code",
   "execution_count": null,
   "id": "b8c06e67",
   "metadata": {},
   "outputs": [],
   "source": [
    "image_edge = cv2.Canny(image_rgb, 125, 175) # two thresholds\n",
    "plt.imshow(image_edge)"
   ]
  },
  {
   "cell_type": "code",
   "execution_count": null,
   "id": "7bb5b46f",
   "metadata": {},
   "outputs": [],
   "source": [
    "import cv2 \n",
    "  \n",
    "# represents the top left corner of rectangle\n",
    "start_point = (280, 390) # right, down\n",
    "  \n",
    "# represents the bottom right corner of rectangle\n",
    "end_point = (1620, 1020)\n",
    "  \n",
    "# Red color in RGB\n",
    "color = (255, 0, 0)\n",
    "  \n",
    "# Line thickness of 2 px\n",
    "thickness = 5\n",
    "  \n",
    "# Using cv2.rectangle() method\n",
    "image_rectangle = cv2.rectangle(image_rgb, start_point, end_point, color, thickness)\n",
    "  \n",
    "plt.imshow(image_rectangle)"
   ]
  },
  {
   "cell_type": "code",
   "execution_count": null,
   "id": "5f1bd63d",
   "metadata": {},
   "outputs": [],
   "source": []
  }
 ],
 "metadata": {
  "kernelspec": {
   "display_name": "base",
   "language": "python",
   "name": "python3"
  },
  "language_info": {
   "codemirror_mode": {
    "name": "ipython",
    "version": 3
   },
   "file_extension": ".py",
   "mimetype": "text/x-python",
   "name": "python",
   "nbconvert_exporter": "python",
   "pygments_lexer": "ipython3",
   "version": "3.12.7"
  }
 },
 "nbformat": 4,
 "nbformat_minor": 5
}
