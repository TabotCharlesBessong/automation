{
 "cells": [
  {
   "cell_type": "code",
   "execution_count": null,
   "id": "6862f5fc",
   "metadata": {},
   "outputs": [],
   "source": [
    "# %pip install preprocessing"
   ]
  },
  {
   "cell_type": "code",
   "execution_count": 10,
   "id": "d02406d9",
   "metadata": {},
   "outputs": [],
   "source": [
    "import numpy as np\n",
    "import sklearn\n",
    "from skimage.feature import hog\n",
    "from sklearn.base import BaseEstimator, TransformerMixin\n",
    "import skimage\n",
    "from sklearn.pipeline import Pipeline\n",
    "from sklearn.preprocessing import StandardScaler\n",
    "from sklearn.svm import SVC\n",
    "import preprocesses"
   ]
  },
  {
   "cell_type": "code",
   "execution_count": 11,
   "id": "feb546b5",
   "metadata": {},
   "outputs": [],
   "source": [
    "class RGB2GrayTransformer(BaseEstimator, TransformerMixin):\n",
    "  \"\"\"\n",
    "  Convert an array of RGB images to grayscale\n",
    "  \"\"\"\n",
    "\n",
    "  def __init__(self):\n",
    "    pass\n",
    "\n",
    "  def fit(self, X, y=None):\n",
    "    \"\"\"returns itself\"\"\"\n",
    "    return self\n",
    "\n",
    "  def transform(self, X, y=None):\n",
    "    \"\"\"perform the transformation and return an array\"\"\"\n",
    "    return np.array([skimage.color.rgb2gray(img) for img in X])"
   ]
  },
  {
   "cell_type": "code",
   "execution_count": 15,
   "id": "a57f21aa",
   "metadata": {},
   "outputs": [],
   "source": [
    "class HogTransformer(BaseEstimator, TransformerMixin):\n",
    "  \"\"\"\n",
    "  Expects an array of 2d arrays (1 channel images)\n",
    "  Calculates hog features for each img\n",
    "  \"\"\"\n",
    "\n",
    "  def __init__(\n",
    "    self,\n",
    "    y=None,\n",
    "    orientations=9,\n",
    "    pixels_per_cell=(8, 8),\n",
    "    cells_per_block=(3, 3),\n",
    "    block_norm=\"L2-Hys\",\n",
    "  ):\n",
    "    self.y = y\n",
    "    self.orientations = orientations\n",
    "    self.pixels_per_cell = pixels_per_cell\n",
    "    self.cells_per_block = cells_per_block\n",
    "    self.block_norm = block_norm\n",
    "\n",
    "  def fit(self, X, y=None):\n",
    "    return self\n",
    "\n",
    "  def transform(self, X, y=None):\n",
    "    def local_hog(X):\n",
    "      return hog(\n",
    "          X,\n",
    "        orientations=self.orientations,\n",
    "        pixels_per_cell=self.pixels_per_cell,\n",
    "        cells_per_block=self.cells_per_block,\n",
    "        block_norm=self.block_norm,\n",
    "      )\n",
    "\n",
    "    return np.array([local_hog(img) for img in X])"
   ]
  },
  {
   "cell_type": "code",
   "execution_count": 16,
   "id": "a4d891db",
   "metadata": {},
   "outputs": [
    {
     "ename": "FileNotFoundError",
     "evalue": "[WinError 3] The system cannot find the path specified: 'd:\\\\charlesDevelopment\\\\automation\\\\3_road_sign_classification\\\\original_dataset\\\\annotations'",
     "output_type": "error",
     "traceback": [
      "\u001b[1;31m---------------------------------------------------------------------------\u001b[0m",
      "\u001b[1;31mFileNotFoundError\u001b[0m                         Traceback (most recent call last)",
      "Cell \u001b[1;32mIn[16], line 2\u001b[0m\n\u001b[0;32m      1\u001b[0m \u001b[38;5;28;01mif\u001b[39;00m \u001b[38;5;18m__name__\u001b[39m \u001b[38;5;241m==\u001b[39m \u001b[38;5;124m\"\u001b[39m\u001b[38;5;124m__main__\u001b[39m\u001b[38;5;124m\"\u001b[39m:\n\u001b[1;32m----> 2\u001b[0m     X_train, X_test, y_train, y_test \u001b[38;5;241m=\u001b[39m \u001b[43mpreprocesses\u001b[49m\u001b[38;5;241;43m.\u001b[39;49m\u001b[43mget_dataset\u001b[49m\u001b[43m(\u001b[49m\u001b[43m)\u001b[49m\n\u001b[0;32m      4\u001b[0m     \u001b[38;5;66;03m# Pipeline\u001b[39;00m\n\u001b[0;32m      5\u001b[0m     HOG_pipeline \u001b[38;5;241m=\u001b[39m Pipeline(\n\u001b[0;32m      6\u001b[0m         [\n\u001b[0;32m      7\u001b[0m             (\u001b[38;5;124m\"\u001b[39m\u001b[38;5;124mgrayify\u001b[39m\u001b[38;5;124m\"\u001b[39m, RGB2GrayTransformer()),\n\u001b[1;32m   (...)\u001b[0m\n\u001b[0;32m     18\u001b[0m         ]\n\u001b[0;32m     19\u001b[0m     )\n",
      "File \u001b[1;32md:\\charlesDevelopment\\automation\\3_road_sign_classification\\preprocesses.py:167\u001b[0m, in \u001b[0;36mget_dataset\u001b[1;34m(recompute)\u001b[0m\n\u001b[0;32m    165\u001b[0m         X, y \u001b[38;5;241m=\u001b[39m pickle\u001b[38;5;241m.\u001b[39mload(file)\n\u001b[0;32m    166\u001b[0m \u001b[38;5;28;01melse\u001b[39;00m:\n\u001b[1;32m--> 167\u001b[0m     X, y \u001b[38;5;241m=\u001b[39m \u001b[43mread_dataset\u001b[49m\u001b[43m(\u001b[49m\u001b[43m)\u001b[49m\n\u001b[0;32m    168\u001b[0m     \u001b[38;5;66;03m# Save dataset\u001b[39;00m\n\u001b[0;32m    169\u001b[0m     \u001b[38;5;28;01mwith\u001b[39;00m \u001b[38;5;28mopen\u001b[39m(dataset_file, \u001b[38;5;124m\"\u001b[39m\u001b[38;5;124mwb\u001b[39m\u001b[38;5;124m\"\u001b[39m) \u001b[38;5;28;01mas\u001b[39;00m file:\n\u001b[0;32m    170\u001b[0m         \u001b[38;5;66;03m# A new file will be created\u001b[39;00m\n",
      "File \u001b[1;32md:\\charlesDevelopment\\automation\\3_road_sign_classification\\preprocesses.py:94\u001b[0m, in \u001b[0;36mread_dataset\u001b[1;34m(overwrite, standar_size, store_images)\u001b[0m\n\u001b[0;32m     92\u001b[0m \u001b[38;5;28;01mdef\u001b[39;00m\u001b[38;5;250m \u001b[39m\u001b[38;5;21mread_dataset\u001b[39m(overwrite\u001b[38;5;241m=\u001b[39m\u001b[38;5;28;01mFalse\u001b[39;00m, standar_size\u001b[38;5;241m=\u001b[39m\u001b[38;5;28;01mTrue\u001b[39;00m, store_images\u001b[38;5;241m=\u001b[39m\u001b[38;5;28;01mTrue\u001b[39;00m):\n\u001b[0;32m     93\u001b[0m     \u001b[38;5;66;03m# Annotation files list\u001b[39;00m\n\u001b[1;32m---> 94\u001b[0m     annotation_files \u001b[38;5;241m=\u001b[39m \u001b[43m[\u001b[49m\u001b[43mf\u001b[49m\u001b[43m \u001b[49m\u001b[38;5;28;43;01mfor\u001b[39;49;00m\u001b[43m \u001b[49m\u001b[43mf\u001b[49m\u001b[43m \u001b[49m\u001b[38;5;129;43;01min\u001b[39;49;00m\u001b[43m \u001b[49m\u001b[43mANNOTATIONS_FOLDER\u001b[49m\u001b[38;5;241;43m.\u001b[39;49m\u001b[43miterdir\u001b[49m\u001b[43m(\u001b[49m\u001b[43m)\u001b[49m\u001b[43m \u001b[49m\u001b[38;5;28;43;01mif\u001b[39;49;00m\u001b[43m \u001b[49m\u001b[43mf\u001b[49m\u001b[38;5;241;43m.\u001b[39;49m\u001b[43mis_file\u001b[49m\u001b[43m(\u001b[49m\u001b[43m)\u001b[49m\u001b[43m]\u001b[49m\n\u001b[0;32m     96\u001b[0m     cropped_images_folder \u001b[38;5;241m=\u001b[39m MODIFIED_DATASET_FOLDER \u001b[38;5;241m/\u001b[39m \u001b[38;5;124m\"\u001b[39m\u001b[38;5;124mcropped_images\u001b[39m\u001b[38;5;124m\"\u001b[39m\n\u001b[0;32m     97\u001b[0m     \u001b[38;5;28;01mif\u001b[39;00m overwrite \u001b[38;5;129;01mand\u001b[39;00m cropped_images_folder\u001b[38;5;241m.\u001b[39mexists():\n",
      "File \u001b[1;32mc:\\Users\\GROUP\\anaconda3\\Lib\\pathlib.py:1056\u001b[0m, in \u001b[0;36mPath.iterdir\u001b[1;34m(self)\u001b[0m\n\u001b[0;32m   1050\u001b[0m \u001b[38;5;28;01mdef\u001b[39;00m\u001b[38;5;250m \u001b[39m\u001b[38;5;21miterdir\u001b[39m(\u001b[38;5;28mself\u001b[39m):\n\u001b[0;32m   1051\u001b[0m \u001b[38;5;250m    \u001b[39m\u001b[38;5;124;03m\"\"\"Yield path objects of the directory contents.\u001b[39;00m\n\u001b[0;32m   1052\u001b[0m \n\u001b[0;32m   1053\u001b[0m \u001b[38;5;124;03m    The children are yielded in arbitrary order, and the\u001b[39;00m\n\u001b[0;32m   1054\u001b[0m \u001b[38;5;124;03m    special entries '.' and '..' are not included.\u001b[39;00m\n\u001b[0;32m   1055\u001b[0m \u001b[38;5;124;03m    \"\"\"\u001b[39;00m\n\u001b[1;32m-> 1056\u001b[0m     \u001b[38;5;28;01mfor\u001b[39;00m name \u001b[38;5;129;01min\u001b[39;00m \u001b[43mos\u001b[49m\u001b[38;5;241;43m.\u001b[39;49m\u001b[43mlistdir\u001b[49m\u001b[43m(\u001b[49m\u001b[38;5;28;43mself\u001b[39;49m\u001b[43m)\u001b[49m:\n\u001b[0;32m   1057\u001b[0m         \u001b[38;5;28;01myield\u001b[39;00m \u001b[38;5;28mself\u001b[39m\u001b[38;5;241m.\u001b[39m_make_child_relpath(name)\n",
      "\u001b[1;31mFileNotFoundError\u001b[0m: [WinError 3] The system cannot find the path specified: 'd:\\\\charlesDevelopment\\\\automation\\\\3_road_sign_classification\\\\original_dataset\\\\annotations'"
     ]
    }
   ],
   "source": [
    "if __name__ == \"__main__\":\n",
    "    X_train, X_test, y_train, y_test = preprocesses.get_dataset()\n",
    "\n",
    "    # Pipeline\n",
    "    HOG_pipeline = Pipeline(\n",
    "        [\n",
    "            (\"grayify\", RGB2GrayTransformer()),\n",
    "            (\n",
    "                \"hogify\",\n",
    "                HogTransformer(\n",
    "                    pixels_per_cell=(14, 14),\n",
    "                    cells_per_block=(2, 2),\n",
    "                    orientations=9,\n",
    "                    block_norm=\"L2-Hys\",\n",
    "                ),\n",
    "            ),\n",
    "            (\"classify\", SVC(kernel=\"rbf\")),\n",
    "        ]\n",
    "    )\n",
    "\n",
    "    # Fit training data\n",
    "    clf = HOG_pipeline.fit(X_train, y_train)\n",
    "    percentage_correct_classifications = (\n",
    "        100 * np.sum(clf.predict(X_test) == y_test) / len(y_test)\n",
    "    )\n",
    "    print(\"Percentage correct classifications: \", percentage_correct_classifications)\n",
    "\n",
    "    # Data for classification report\n",
    "    y_pred = clf.predict(X_test)\n",
    "\n",
    "    # Format data for classification_report (takes label encoded arrays of elements)\n",
    "    label_enc = sklearn.preprocessing.LabelEncoder()\n",
    "    y_test_le = label_enc.fit_transform(y_test)\n",
    "    y_pred_le = label_enc.transform(y_pred)\n",
    "\n",
    "    print(\n",
    "        sklearn.metrics.classification_report(\n",
    "            y_test_le, y_pred_le, target_names=label_enc.classes_\n",
    "        )\n",
    "    )\n",
    "\"\"\"\n",
    "    Percentage correct:  98.55072463768116\n",
    "              precision    recall  f1-score   support\n",
    "\n",
    "   crosswalk       1.00      0.93      0.96        29\n",
    "  speedlimit       1.00      1.00      1.00       130\n",
    "        stop       1.00      0.93      0.96        14\n",
    "trafficlight       0.92      1.00      0.96        34\n",
    "\n",
    "    accuracy                           0.99       207\n",
    "   macro avg       0.98      0.96      0.97       207\n",
    "weighted avg       0.99      0.99      0.99       207\n",
    "\"\"\""
   ]
  },
  {
   "cell_type": "code",
   "execution_count": null,
   "id": "321c7745",
   "metadata": {},
   "outputs": [],
   "source": []
  }
 ],
 "metadata": {
  "kernelspec": {
   "display_name": "base",
   "language": "python",
   "name": "python3"
  },
  "language_info": {
   "codemirror_mode": {
    "name": "ipython",
    "version": 3
   },
   "file_extension": ".py",
   "mimetype": "text/x-python",
   "name": "python",
   "nbconvert_exporter": "python",
   "pygments_lexer": "ipython3",
   "version": "3.12.7"
  }
 },
 "nbformat": 4,
 "nbformat_minor": 5
}
