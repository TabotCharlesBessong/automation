{
 "cells": [
  {
   "cell_type": "code",
   "execution_count": null,
   "id": "e6cd3777",
   "metadata": {},
   "outputs": [],
   "source": [
    "from pathlib import Path\n",
    "import cv2\n",
    "import numpy as np\n",
    "import matplotlib.pyplot as plt\n",
    "# import preprocessing"
   ]
  },
  {
   "cell_type": "code",
   "execution_count": null,
   "id": "8e46f6ea",
   "metadata": {},
   "outputs": [],
   "source": [
    "# %pip install preprocessing"
   ]
  },
  {
   "cell_type": "code",
   "execution_count": null,
   "id": "eb7e6b92",
   "metadata": {},
   "outputs": [],
   "source": [
    "import preprocessing"
   ]
  },
  {
   "cell_type": "code",
   "execution_count": null,
   "id": "d81f6994",
   "metadata": {},
   "outputs": [],
   "source": [
    "# Check available attributes in preprocessing module\n",
    "print(dir(preprocessing))"
   ]
  },
  {
   "cell_type": "code",
   "execution_count": null,
   "id": "e2ef2b34",
   "metadata": {},
   "outputs": [],
   "source": [
    "image_path = Path(\"../DATA/images/road100.png\")\n",
    "image = cv2.imread(str(image_path))\n",
    "\n",
    "# RGB image (for display)\n",
    "image_rgb = cv2.cvtColor(image, cv2.COLOR_BGR2RGB)\n",
    "\n",
    "# Grayscale image (for processing)\n",
    "image_gray = cv2.cvtColor(image, cv2.COLOR_BGR2GRAY) # 8 bit encoding\n",
    "\n",
    "# Image in float encoding and scaled to have values [128, 255]\n",
    "image_gray_f64 = image_gray.astype(np.float64)\n",
    "image_gray_f64 = image_gray_f64 / 2 + 128"
   ]
  },
  {
   "cell_type": "code",
   "execution_count": null,
   "id": "2166fa6d",
   "metadata": {},
   "outputs": [],
   "source": [
    "# Calculate the gradient value and magnitude\n",
    "# Images scaled to have values [0 - 127] negative gradient [128 - 255] positive gradient\n",
    "image_dx_disp = cv2.Sobel(image_gray_f64,0,dx=1,dy=0)\n",
    "image_dy_disp = cv2.Sobel(image_gray_f64,0,dx=0,dy=1)\n",
    "\n",
    "# Negative gradient\n",
    "image_dx = (image_dx_disp.astype(np.float64) - 128) * 2\n",
    "image_dy = (image_dy_disp.astype(np.float64) - 128) * 2\n",
    "magnitude = np.sqrt(image_dx**2 + image_dy**2)\n",
    "direction = np.arctan2(image_dy.astype(np.float64), image_dx.astype(np.float64))"
   ]
  },
  {
   "cell_type": "code",
   "execution_count": null,
   "id": "2eefb64c",
   "metadata": {},
   "outputs": [],
   "source": [
    "# Plot images\n",
    "fig = plt.figure(figsize=(10, 15))\n",
    "rows, columns = 3, 2\n",
    "\n",
    "fig.add_subplot(rows, columns, 1)\n",
    "plt.title(\"Original RGB\")\n",
    "plt.axis(\"off\")\n",
    "plt.imshow(image_rgb)\n",
    "\n",
    "fig.add_subplot(rows, columns, 2)\n",
    "plt.title(\"Image Grayscale\")\n",
    "plt.axis(\"off\")\n",
    "plt.imshow(image_gray, cmap=\"gray\")\n",
    "\n",
    "fig.add_subplot(rows, columns, 3)\n",
    "plt.title(\"Sobel X\")\n",
    "plt.axis(\"off\")\n",
    "plt.imshow(image_dx_disp, cmap=\"gray\")\n",
    "\n",
    "fig.add_subplot(rows, columns, 4)\n",
    "plt.title(\"Sobel Y\")\n",
    "plt.axis(\"off\")\n",
    "plt.imshow(image_dy, cmap=\"gray\")\n",
    "\n",
    "fig.add_subplot(rows, columns, 5)\n",
    "plt.title(\"Gradient Magnitude\")\n",
    "plt.axis(\"off\")\n",
    "plt.imshow(magnitude)\n",
    "\n",
    "fig.add_subplot(rows, columns, 6)\n",
    "plt.title(\"Gradient Orientation\")\n",
    "plt.axis(\"off\")\n",
    "plt.imshow(direction)"
   ]
  },
  {
   "cell_type": "code",
   "execution_count": null,
   "id": "88bc0c04",
   "metadata": {},
   "outputs": [],
   "source": [
    "\n",
    "from skimage.feature import hog\n",
    "from skimage import exposure\n",
    "\n",
    "fd, hog_image = hog(\n",
    "  image_gray,\n",
    "  orientations=8,\n",
    "  pixels_per_cell=(16, 16),\n",
    "  cells_per_block=(1, 1),\n",
    "  visualize=True,\n",
    ")\n",
    "\n",
    "fig, (ax1, ax2) = plt.subplots(1, 2, figsize=(8, 4), sharex=True, sharey=True)\n",
    "\n",
    "ax1.axis(\"off\")\n",
    "ax1.imshow(image, cmap=plt.cm.gray)\n",
    "ax1.set_title(\"Input image\")\n",
    "\n",
    "# Rescale histogram for better display\n",
    "hog_image_rescaled = exposure.rescale_intensity(hog_image, in_range=(0, 10))\n",
    "\n",
    "ax2.axis(\"off\")\n",
    "ax2.imshow(hog_image_rescaled, cmap=plt.cm.gray)\n",
    "ax2.set_title(\"Histogram of Oriented Gradients\")\n",
    "plt.show()"
   ]
  },
  {
   "cell_type": "code",
   "execution_count": null,
   "id": "c82cc190",
   "metadata": {},
   "outputs": [],
   "source": []
  }
 ],
 "metadata": {
  "kernelspec": {
   "display_name": "base",
   "language": "python",
   "name": "python3"
  },
  "language_info": {
   "codemirror_mode": {
    "name": "ipython",
    "version": 3
   },
   "file_extension": ".py",
   "mimetype": "text/x-python",
   "name": "python",
   "nbconvert_exporter": "python",
   "pygments_lexer": "ipython3",
   "version": "3.12.7"
  }
 },
 "nbformat": 4,
 "nbformat_minor": 5
}
